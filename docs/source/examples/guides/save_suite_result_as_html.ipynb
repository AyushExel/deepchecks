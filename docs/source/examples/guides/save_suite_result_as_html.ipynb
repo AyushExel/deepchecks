{
 "cells": [
  {
   "cell_type": "markdown",
   "id": "093664c2",
   "metadata": {},
   "source": [
    "# Save Suite Result As HTML"
   ]
  },
  {
   "cell_type": "markdown",
   "id": "20be3899",
   "metadata": {
    "ExecuteTime": {
     "end_time": "2021-12-08T16:58:27.272515Z",
     "start_time": "2021-12-08T16:58:27.229029Z"
    }
   },
   "source": [
    "It is possible to save the suite result as an html. \n",
    "This enables you to share your results easier and use deepchecks outside of a notebook."
   ]
  },
  {
   "cell_type": "markdown",
   "id": "6c876505",
   "metadata": {},
   "source": [
    "## For the purpose of this guide we'll create 2 sample datasets"
   ]
  },
  {
   "cell_type": "code",
   "execution_count": 1,
   "id": "58f8f2df",
   "metadata": {
    "ExecuteTime": {
     "end_time": "2022-01-06T04:02:53.130005Z",
     "start_time": "2022-01-06T04:02:52.186036Z"
    },
    "tags": []
   },
   "outputs": [],
   "source": [
    "from deepchecks import Dataset\n",
    "import pandas as pd\n",
    "\n",
    "train_dataset = Dataset(pd.DataFrame(data={'x': [1,2,3,4,5,6,7,8,9]}), label=None)\n",
    "test_dataset = Dataset(pd.DataFrame(data={'x': [1,2,3]}), label=None)"
   ]
  },
  {
   "cell_type": "markdown",
   "id": "37425f9d",
   "metadata": {},
   "source": [
    "## Run the Full Suite (or any other suite)"
   ]
  },
  {
   "cell_type": "code",
   "execution_count": 2,
   "id": "df37f340",
   "metadata": {
    "ExecuteTime": {
     "end_time": "2022-01-06T04:02:54.289467Z",
     "start_time": "2022-01-06T04:02:54.078120Z"
    },
    "tags": []
   },
   "outputs": [],
   "source": [
    "from deepchecks.suites import full_suite\n",
    "\n",
    "suite = full_suite()"
   ]
  },
  {
   "cell_type": "markdown",
   "id": "f0e237a8-110b-4e12-bdf5-b5f4923a98e8",
   "metadata": {},
   "source": [
    "### We will save the suite result to save it as html later"
   ]
  },
  {
   "cell_type": "code",
   "execution_count": 3,
   "id": "b74de249",
   "metadata": {
    "ExecuteTime": {
     "end_time": "2022-01-06T04:02:59.697370Z",
     "start_time": "2022-01-06T04:02:54.291966Z"
    },
    "tags": []
   },
   "outputs": [
    {
     "data": {
      "application/vnd.jupyter.widget-view+json": {
       "model_id": "",
       "version_major": 2,
       "version_minor": 0
      },
      "text/plain": [
       "Full Suite:   0%|          | 0/36 [00:00<?, ? Check/s]"
      ]
     },
     "metadata": {},
     "output_type": "display_data"
    }
   ],
   "source": [
    "suite_result = suite.run(train_dataset=train_dataset, test_dataset=test_dataset)"
   ]
  },
  {
   "cell_type": "markdown",
   "id": "6adf0eb6",
   "metadata": {},
   "source": [
    "## We can either save the html to a file like object or a path\n",
    "#### For this demonstration we will use a file like object"
   ]
  },
  {
   "cell_type": "code",
   "execution_count": 4,
   "id": "445dcb78",
   "metadata": {
    "ExecuteTime": {
     "end_time": "2022-01-06T04:02:59.709600Z",
     "start_time": "2022-01-06T04:02:59.700249Z"
    },
    "tags": []
   },
   "outputs": [],
   "source": [
    "import io\n",
    "\n",
    "html_out = io.StringIO()\n",
    "suite_result.save_as_html(html_out)"
   ]
  },
  {
   "cell_type": "markdown",
   "id": "0c4f389e-016a-4ce4-960b-1a1bf75d7402",
   "metadata": {},
   "source": [
    "## Let's incpect our object"
   ]
  },
  {
   "cell_type": "code",
   "execution_count": 5,
   "id": "c1c78a90-b1e9-47dc-a195-a6f66da57b34",
   "metadata": {},
   "outputs": [
    {
     "data": {
      "text/plain": [
       "'<!DOCTYPE html>\\n<html lang=\"en\">\\n<head>\\n    <meta charset=\"UTF-8\">\\n    <title>Suite Output</title>\\n '"
      ]
     },
     "execution_count": 5,
     "metadata": {},
     "output_type": "execute_result"
    }
   ],
   "source": [
    "# showing first 100 characters for demonstration\n",
    "html_out.getvalue()[:100]"
   ]
  },
  {
   "cell_type": "markdown",
   "id": "5ff24f32-74e4-4503-88a6-e59996bc0f04",
   "metadata": {},
   "source": [
    "### More common usage will be to save as a file which will be as follows:"
   ]
  },
  {
   "cell_type": "code",
   "execution_count": 6,
   "id": "a5685957-bc4a-44d3-a8af-86953407c1da",
   "metadata": {},
   "outputs": [],
   "source": [
    "suite_result.save_as_html('my_suite.html')"
   ]
  },
  {
   "cell_type": "markdown",
   "id": "f8a38433-a28f-4854-8a2f-8ebacd1612d7",
   "metadata": {},
   "source": [
    "#### or"
   ]
  },
  {
   "cell_type": "code",
   "execution_count": 7,
   "id": "c7903d3d-fcbc-4d1d-bdd0-eb06c5a281a3",
   "metadata": {},
   "outputs": [],
   "source": [
    "suite_result.save_as_html() # will save the result in output.html"
   ]
  },
  {
   "cell_type": "markdown",
   "id": "533ea7a7-e7fc-4668-9780-3cf39da0b768",
   "metadata": {},
   "source": [
    "### We can still view the result in the notebook if we want"
   ]
  },
  {
   "cell_type": "code",
   "execution_count": 8,
   "id": "c5dd85d9-889b-4644-b74e-b43fe08d454f",
   "metadata": {},
   "outputs": [
    {
     "data": {
      "application/vnd.jupyter.widget-view+json": {
       "model_id": "259a877c7267427d897725f8d2a8ed2c",
       "version_major": 2,
       "version_minor": 0
      },
      "text/plain": [
       "VBox(children=(HTML(value='\\n        <h1 id=\"summary_V3F44\">Full Suite</h1>\\n        <p>\\n            The suit…"
      ]
     },
     "metadata": {},
     "output_type": "display_data"
    }
   ],
   "source": [
    "suite_result"
   ]
  }
 ],
 "metadata": {
  "kernelspec": {
   "display_name": "Python 3 (ipykernel)",
   "language": "python",
   "name": "python3"
  },
  "language_info": {
   "codemirror_mode": {
    "name": "ipython",
    "version": 3
   },
   "file_extension": ".py",
   "mimetype": "text/x-python",
   "name": "python",
   "nbconvert_exporter": "python",
   "pygments_lexer": "ipython3",
   "version": "3.8.12"
  },
  "toc": {
   "base_numbering": 1,
   "nav_menu": {},
   "number_sections": true,
   "sideBar": true,
   "skip_h1_title": false,
   "title_cell": "Table of Contents",
   "title_sidebar": "Contents",
   "toc_cell": false,
   "toc_position": {},
   "toc_section_display": true,
   "toc_window_display": false
  }
 },
 "nbformat": 4,
 "nbformat_minor": 5
}
