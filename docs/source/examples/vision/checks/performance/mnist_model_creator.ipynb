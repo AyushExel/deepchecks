{
 "cells": [
  {
   "cell_type": "markdown",
   "id": "e767e792",
   "metadata": {},
   "source": [
    "# Performance Report"
   ]
  },
  {
   "cell_type": "markdown",
   "id": "b4362511-5e33-4b5c-9314-811f79c25546",
   "metadata": {},
   "source": [
    "Code taken from: https://nextjournal.com/gkoehler/pytorch-mnist"
   ]
  },
  {
   "cell_type": "markdown",
   "id": "09c7ee01-6999-465e-a318-56570b008526",
   "metadata": {},
   "source": [
    "## Imports"
   ]
  },
  {
   "cell_type": "code",
   "execution_count": 1,
   "id": "a8bef717-c573-43ec-8589-a81ecc08f2bb",
   "metadata": {},
   "outputs": [],
   "source": [
    "from deepchecks.vision.base import VisionDataset\n",
    "from torchvision import models\n",
    "import torchvision\n",
    "import torch"
   ]
  },
  {
   "cell_type": "code",
   "execution_count": 2,
   "id": "9d0d0aa4-3df9-41ef-b42a-8cc1592ca3b2",
   "metadata": {},
   "outputs": [],
   "source": [
    "mnist_data = torchvision.datasets.MNIST('./mnist', download=True)"
   ]
  },
  {
   "cell_type": "code",
   "execution_count": 3,
   "id": "e4377631-be21-4d11-b1f7-fd5d26a2529a",
   "metadata": {},
   "outputs": [
    {
     "data": {
      "text/plain": [
       "<torch._C.Generator at 0x1d43db5e750>"
      ]
     },
     "execution_count": 3,
     "metadata": {},
     "output_type": "execute_result"
    }
   ],
   "source": [
    "n_epochs = 1\n",
    "batch_size_train = 64\n",
    "batch_size_test = 1000\n",
    "learning_rate = 0.01\n",
    "momentum = 0.5\n",
    "log_interval = 10\n",
    "\n",
    "random_seed = 1\n",
    "torch.backends.cudnn.enabled = False\n",
    "torch.manual_seed(random_seed)"
   ]
  },
  {
   "cell_type": "code",
   "execution_count": 4,
   "id": "1c3ad7a6-4eec-4290-8fd0-4eb400a52564",
   "metadata": {},
   "outputs": [],
   "source": [
    "train_loader = torch.utils.data.DataLoader(\n",
    "  torchvision.datasets.MNIST('./mnist', train=True, download=True,\n",
    "                             transform=torchvision.transforms.Compose([\n",
    "                               torchvision.transforms.ToTensor(),\n",
    "                               torchvision.transforms.Normalize(\n",
    "                                 (0.1307,), (0.3081,))\n",
    "                             ])),\n",
    "  batch_size=batch_size_train, shuffle=True)\n",
    "\n",
    "test_loader = torch.utils.data.DataLoader(\n",
    "  torchvision.datasets.MNIST('./mnist', train=False, download=True,\n",
    "                             transform=torchvision.transforms.Compose([\n",
    "                               torchvision.transforms.ToTensor(),\n",
    "                               torchvision.transforms.Normalize(\n",
    "                                 (0.1307,), (0.3081,))\n",
    "                             ])),\n",
    "  batch_size=batch_size_test, shuffle=True)"
   ]
  },
  {
   "cell_type": "code",
   "execution_count": 5,
   "id": "cffedbda-41d1-4372-a54f-d1cb94a6989c",
   "metadata": {},
   "outputs": [],
   "source": [
    "import torch.nn as nn\n",
    "import torch.nn.functional as F\n",
    "import torch.optim as optim"
   ]
  },
  {
   "cell_type": "code",
   "execution_count": 6,
   "id": "2c77ea02-aedf-4d82-a6bb-2ee1d667a665",
   "metadata": {},
   "outputs": [],
   "source": [
    "class MNistNet(nn.Module):\n",
    "    def __init__(self):\n",
    "        super(MNistNet, self).__init__()\n",
    "        self.conv1 = nn.Conv2d(1, 10, kernel_size=5)\n",
    "        self.conv2 = nn.Conv2d(10, 20, kernel_size=5)\n",
    "        self.conv2_drop = nn.Dropout2d()\n",
    "        self.fc1 = nn.Linear(320, 50)\n",
    "        self.fc2 = nn.Linear(50, 10)\n",
    "\n",
    "    def forward(self, x):\n",
    "        x = F.relu(F.max_pool2d(self.conv1(x), 2))\n",
    "        x = F.relu(F.max_pool2d(self.conv2_drop(self.conv2(x)), 2))\n",
    "        x = x.view(-1, 320)\n",
    "        x = F.relu(self.fc1(x))\n",
    "        x = F.dropout(x, training=self.training)\n",
    "        x = self.fc2(x)\n",
    "        return F.log_softmax(x)"
   ]
  },
  {
   "cell_type": "code",
   "execution_count": 7,
   "id": "fd0438de-9982-444f-a4e2-0acf8730f077",
   "metadata": {},
   "outputs": [],
   "source": [
    "model = MNistNet()\n",
    "optimizer = optim.SGD(model.parameters(), lr=learning_rate,\n",
    "                      momentum=momentum)"
   ]
  },
  {
   "cell_type": "code",
   "execution_count": 8,
   "id": "41850428-b234-4dc2-b4ff-fa00abab9c7c",
   "metadata": {},
   "outputs": [],
   "source": [
    "train_losses = []\n",
    "train_counter = []\n",
    "test_losses = []\n",
    "test_counter = [i*len(train_loader.dataset) for i in range(n_epochs + 1)]"
   ]
  },
  {
   "cell_type": "code",
   "execution_count": 9,
   "id": "b5a3fe6b-68cb-4c99-ba72-c4e77e862f92",
   "metadata": {},
   "outputs": [],
   "source": [
    "def train(epoch):\n",
    "  model.train()\n",
    "  for batch_idx, (data, target) in enumerate(train_loader):\n",
    "    optimizer.zero_grad()\n",
    "    output = model(data)\n",
    "    loss = F.nll_loss(output, target)\n",
    "    loss.backward()\n",
    "    optimizer.step()\n",
    "    if batch_idx % log_interval == 0:\n",
    "      print('Train Epoch: {} [{}/{} ({:.0f}%)]\\tLoss: {:.6f}'.format(\n",
    "        epoch, batch_idx * len(data), len(train_loader.dataset),\n",
    "        100. * batch_idx / len(train_loader), loss.item()))\n",
    "      train_losses.append(loss.item())\n",
    "      train_counter.append(\n",
    "        (batch_idx*64) + ((epoch-1)*len(train_loader.dataset)))\n",
    "      torch.save(model.state_dict(), './results/model_states_dict.pth')\n",
    "      torch.save(optimizer.state_dict(), './results/optimizer.pth')"
   ]
  },
  {
   "cell_type": "code",
   "execution_count": 10,
   "id": "8c126f30-a771-423f-b9bd-4ec48a7f24de",
   "metadata": {},
   "outputs": [],
   "source": [
    "def test():\n",
    "  model.eval()\n",
    "  test_loss = 0\n",
    "  correct = 0\n",
    "  with torch.no_grad():\n",
    "    for data, target in test_loader:\n",
    "      output = model(data)\n",
    "      test_loss += F.nll_loss(output, target, size_average=False).item()\n",
    "      pred = output.data.max(1, keepdim=True)[1]\n",
    "      correct += pred.eq(target.data.view_as(pred)).sum()\n",
    "  test_loss /= len(test_loader.dataset)\n",
    "  test_losses.append(test_loss)\n",
    "  print('\\nTest set: Avg. loss: {:.4f}, Accuracy: {}/{} ({:.0f}%)\\n'.format(\n",
    "    test_loss, correct, len(test_loader.dataset),\n",
    "    100. * correct / len(test_loader.dataset)))"
   ]
  },
  {
   "cell_type": "code",
   "execution_count": 11,
   "id": "916922dc-7b15-437f-a4d8-c50f75c5370e",
   "metadata": {
    "tags": []
   },
   "outputs": [
    {
     "name": "stderr",
     "output_type": "stream",
     "text": [
      "C:\\Users\\nirhu\\AppData\\Local\\Temp/ipykernel_38044/453714901.py:17: UserWarning:\n",
      "\n",
      "Implicit dimension choice for log_softmax has been deprecated. Change the call to include dim=X as an argument.\n",
      "\n",
      "c:\\users\\nirhu\\documents\\deepchecks\\mlchecks\\venv_with_jupyter\\lib\\site-packages\\torch\\nn\\_reduction.py:42: UserWarning:\n",
      "\n",
      "size_average and reduce args will be deprecated, please use reduction='sum' instead.\n",
      "\n"
     ]
    },
    {
     "name": "stdout",
     "output_type": "stream",
     "text": [
      "\n",
      "Test set: Avg. loss: 2.3316, Accuracy: 1137/10000 (11%)\n",
      "\n",
      "Train Epoch: 1 [0/60000 (0%)]\tLoss: 2.360446\n",
      "Train Epoch: 1 [640/60000 (1%)]\tLoss: 2.364010\n",
      "Train Epoch: 1 [1280/60000 (2%)]\tLoss: 2.329987\n",
      "Train Epoch: 1 [1920/60000 (3%)]\tLoss: 2.249067\n",
      "Train Epoch: 1 [2560/60000 (4%)]\tLoss: 2.288059\n",
      "Train Epoch: 1 [3200/60000 (5%)]\tLoss: 2.218085\n",
      "Train Epoch: 1 [3840/60000 (6%)]\tLoss: 2.214215\n",
      "Train Epoch: 1 [4480/60000 (7%)]\tLoss: 2.111192\n",
      "Train Epoch: 1 [5120/60000 (9%)]\tLoss: 2.092593\n",
      "Train Epoch: 1 [5760/60000 (10%)]\tLoss: 1.989863\n",
      "Train Epoch: 1 [6400/60000 (11%)]\tLoss: 1.911151\n",
      "Train Epoch: 1 [7040/60000 (12%)]\tLoss: 1.659503\n",
      "Train Epoch: 1 [7680/60000 (13%)]\tLoss: 1.869479\n",
      "Train Epoch: 1 [8320/60000 (14%)]\tLoss: 1.660094\n",
      "Train Epoch: 1 [8960/60000 (15%)]\tLoss: 1.577335\n",
      "Train Epoch: 1 [9600/60000 (16%)]\tLoss: 1.550470\n",
      "Train Epoch: 1 [10240/60000 (17%)]\tLoss: 1.304469\n",
      "Train Epoch: 1 [10880/60000 (18%)]\tLoss: 1.408615\n",
      "Train Epoch: 1 [11520/60000 (19%)]\tLoss: 1.306857\n",
      "Train Epoch: 1 [12160/60000 (20%)]\tLoss: 1.171410\n",
      "Train Epoch: 1 [12800/60000 (21%)]\tLoss: 1.161339\n",
      "Train Epoch: 1 [13440/60000 (22%)]\tLoss: 1.056440\n",
      "Train Epoch: 1 [14080/60000 (23%)]\tLoss: 0.973554\n",
      "Train Epoch: 1 [14720/60000 (25%)]\tLoss: 0.988471\n",
      "Train Epoch: 1 [15360/60000 (26%)]\tLoss: 0.876488\n",
      "Train Epoch: 1 [16000/60000 (27%)]\tLoss: 1.108839\n",
      "Train Epoch: 1 [16640/60000 (28%)]\tLoss: 0.845335\n",
      "Train Epoch: 1 [17280/60000 (29%)]\tLoss: 1.070165\n",
      "Train Epoch: 1 [17920/60000 (30%)]\tLoss: 0.946660\n",
      "Train Epoch: 1 [18560/60000 (31%)]\tLoss: 0.951182\n",
      "Train Epoch: 1 [19200/60000 (32%)]\tLoss: 0.991050\n",
      "Train Epoch: 1 [19840/60000 (33%)]\tLoss: 0.932710\n",
      "Train Epoch: 1 [20480/60000 (34%)]\tLoss: 0.897290\n",
      "Train Epoch: 1 [21120/60000 (35%)]\tLoss: 0.706706\n",
      "Train Epoch: 1 [21760/60000 (36%)]\tLoss: 0.702425\n",
      "Train Epoch: 1 [22400/60000 (37%)]\tLoss: 0.874032\n",
      "Train Epoch: 1 [23040/60000 (38%)]\tLoss: 0.987390\n",
      "Train Epoch: 1 [23680/60000 (39%)]\tLoss: 0.853532\n",
      "Train Epoch: 1 [24320/60000 (41%)]\tLoss: 0.918619\n",
      "Train Epoch: 1 [24960/60000 (42%)]\tLoss: 0.527439\n",
      "Train Epoch: 1 [25600/60000 (43%)]\tLoss: 0.631000\n",
      "Train Epoch: 1 [26240/60000 (44%)]\tLoss: 0.803841\n",
      "Train Epoch: 1 [26880/60000 (45%)]\tLoss: 0.853360\n",
      "Train Epoch: 1 [27520/60000 (46%)]\tLoss: 0.585562\n",
      "Train Epoch: 1 [28160/60000 (47%)]\tLoss: 0.705557\n",
      "Train Epoch: 1 [28800/60000 (48%)]\tLoss: 0.762342\n",
      "Train Epoch: 1 [29440/60000 (49%)]\tLoss: 0.571102\n",
      "Train Epoch: 1 [30080/60000 (50%)]\tLoss: 0.454515\n",
      "Train Epoch: 1 [30720/60000 (51%)]\tLoss: 0.531988\n",
      "Train Epoch: 1 [31360/60000 (52%)]\tLoss: 0.618805\n",
      "Train Epoch: 1 [32000/60000 (53%)]\tLoss: 0.590170\n",
      "Train Epoch: 1 [32640/60000 (54%)]\tLoss: 0.572210\n",
      "Train Epoch: 1 [33280/60000 (55%)]\tLoss: 0.654525\n",
      "Train Epoch: 1 [33920/60000 (57%)]\tLoss: 0.488502\n",
      "Train Epoch: 1 [34560/60000 (58%)]\tLoss: 0.733961\n",
      "Train Epoch: 1 [35200/60000 (59%)]\tLoss: 0.666958\n",
      "Train Epoch: 1 [35840/60000 (60%)]\tLoss: 0.545695\n",
      "Train Epoch: 1 [36480/60000 (61%)]\tLoss: 0.454185\n",
      "Train Epoch: 1 [37120/60000 (62%)]\tLoss: 0.547527\n",
      "Train Epoch: 1 [37760/60000 (63%)]\tLoss: 0.585805\n",
      "Train Epoch: 1 [38400/60000 (64%)]\tLoss: 0.696520\n",
      "Train Epoch: 1 [39040/60000 (65%)]\tLoss: 0.771165\n",
      "Train Epoch: 1 [39680/60000 (66%)]\tLoss: 0.476222\n",
      "Train Epoch: 1 [40320/60000 (67%)]\tLoss: 0.571435\n",
      "Train Epoch: 1 [40960/60000 (68%)]\tLoss: 0.525313\n",
      "Train Epoch: 1 [41600/60000 (69%)]\tLoss: 0.707542\n",
      "Train Epoch: 1 [42240/60000 (70%)]\tLoss: 0.432714\n",
      "Train Epoch: 1 [42880/60000 (71%)]\tLoss: 0.556919\n",
      "Train Epoch: 1 [43520/60000 (72%)]\tLoss: 0.641886\n",
      "Train Epoch: 1 [44160/60000 (74%)]\tLoss: 0.461000\n",
      "Train Epoch: 1 [44800/60000 (75%)]\tLoss: 0.577635\n",
      "Train Epoch: 1 [45440/60000 (76%)]\tLoss: 0.452330\n",
      "Train Epoch: 1 [46080/60000 (77%)]\tLoss: 0.527573\n",
      "Train Epoch: 1 [46720/60000 (78%)]\tLoss: 0.500763\n",
      "Train Epoch: 1 [47360/60000 (79%)]\tLoss: 0.644039\n",
      "Train Epoch: 1 [48000/60000 (80%)]\tLoss: 0.597607\n",
      "Train Epoch: 1 [48640/60000 (81%)]\tLoss: 0.487838\n",
      "Train Epoch: 1 [49280/60000 (82%)]\tLoss: 0.585910\n",
      "Train Epoch: 1 [49920/60000 (83%)]\tLoss: 0.349825\n",
      "Train Epoch: 1 [50560/60000 (84%)]\tLoss: 0.435116\n",
      "Train Epoch: 1 [51200/60000 (85%)]\tLoss: 0.853051\n",
      "Train Epoch: 1 [51840/60000 (86%)]\tLoss: 0.471667\n",
      "Train Epoch: 1 [52480/60000 (87%)]\tLoss: 0.412426\n",
      "Train Epoch: 1 [53120/60000 (88%)]\tLoss: 0.490143\n",
      "Train Epoch: 1 [53760/60000 (90%)]\tLoss: 0.504067\n",
      "Train Epoch: 1 [54400/60000 (91%)]\tLoss: 0.283223\n",
      "Train Epoch: 1 [55040/60000 (92%)]\tLoss: 0.493009\n",
      "Train Epoch: 1 [55680/60000 (93%)]\tLoss: 0.346527\n",
      "Train Epoch: 1 [56320/60000 (94%)]\tLoss: 0.779022\n",
      "Train Epoch: 1 [56960/60000 (95%)]\tLoss: 0.407206\n",
      "Train Epoch: 1 [57600/60000 (96%)]\tLoss: 0.331597\n",
      "Train Epoch: 1 [58240/60000 (97%)]\tLoss: 0.501368\n",
      "Train Epoch: 1 [58880/60000 (98%)]\tLoss: 0.553303\n",
      "Train Epoch: 1 [59520/60000 (99%)]\tLoss: 0.376588\n",
      "\n",
      "Test set: Avg. loss: 0.1995, Accuracy: 9387/10000 (94%)\n",
      "\n"
     ]
    }
   ],
   "source": [
    "test()\n",
    "for epoch in range(1, n_epochs + 1):\n",
    "  train(epoch)\n",
    "  test()"
   ]
  },
  {
   "cell_type": "code",
   "execution_count": 12,
   "id": "e68970ac-fa0a-48d5-b417-a5cf7fc74965",
   "metadata": {},
   "outputs": [],
   "source": [
    "torch.save(model, './results/model.pth')"
   ]
  },
  {
   "cell_type": "code",
   "execution_count": 13,
   "id": "e92f9941-84f8-46c6-82e2-af558d1ed478",
   "metadata": {},
   "outputs": [
    {
     "data": {
      "text/plain": [
       "MNistNet(\n",
       "  (conv1): Conv2d(1, 10, kernel_size=(5, 5), stride=(1, 1))\n",
       "  (conv2): Conv2d(10, 20, kernel_size=(5, 5), stride=(1, 1))\n",
       "  (conv2_drop): Dropout2d(p=0.5, inplace=False)\n",
       "  (fc1): Linear(in_features=320, out_features=50, bias=True)\n",
       "  (fc2): Linear(in_features=50, out_features=10, bias=True)\n",
       ")"
      ]
     },
     "execution_count": 13,
     "metadata": {},
     "output_type": "execute_result"
    }
   ],
   "source": [
    "model = torch.load('./results/model.pth')\n",
    "model.eval()\n"
   ]
  },
  {
   "cell_type": "code",
   "execution_count": 14,
   "id": "eb6aa769-69dc-4f65-a0ca-340bf4134647",
   "metadata": {},
   "outputs": [
    {
     "name": "stderr",
     "output_type": "stream",
     "text": [
      "C:\\Users\\nirhu\\AppData\\Local\\Temp/ipykernel_38044/453714901.py:17: UserWarning:\n",
      "\n",
      "Implicit dimension choice for log_softmax has been deprecated. Change the call to include dim=X as an argument.\n",
      "\n"
     ]
    },
    {
     "name": "stdout",
     "output_type": "stream",
     "text": [
      "\n",
      "Test set: Avg. loss: 0.1995, Accuracy: 9387/10000 (94%)\n",
      "\n"
     ]
    }
   ],
   "source": [
    "test()"
   ]
  },
  {
   "cell_type": "code",
   "execution_count": null,
   "id": "c0b65dad-04ac-438d-b008-bce4eb2e96ef",
   "metadata": {},
   "outputs": [],
   "source": []
  }
 ],
 "metadata": {
  "kernelspec": {
   "display_name": "Python 3 (ipykernel)",
   "language": "python",
   "name": "python3"
  },
  "language_info": {
   "codemirror_mode": {
    "name": "ipython",
    "version": 3
   },
   "file_extension": ".py",
   "mimetype": "text/x-python",
   "name": "python",
   "nbconvert_exporter": "python",
   "pygments_lexer": "ipython3",
   "version": "3.8.6"
  }
 },
 "nbformat": 4,
 "nbformat_minor": 5
}
